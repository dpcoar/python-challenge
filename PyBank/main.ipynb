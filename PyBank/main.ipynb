{
 "cells": [
  {
   "cell_type": "code",
   "execution_count": 6,
   "metadata": {},
   "outputs": [
    {
     "name": "stdout",
     "output_type": "stream",
     "text": [
      "Financial Analysis\n",
      "------------------------------\n",
      "Total Months: 86\n",
      "Total: $38,382,578\n",
      "Average Change: $7,803\n",
      "Greatest Increase in Profits: Feb-2012 ($1,170,593)\n",
      "Greatest Decrease in Profits: Sep-2013 ($-1,196,225)\n"
     ]
    }
   ],
   "source": [
    "import csv\n",
    "import os\n",
    "\n",
    "file = os.path.join('budget_data.csv')\n",
    "\n",
    "#emply lists for month and revenue data\n",
    "months = []\n",
    "revenue = []\n",
    "prior_month= 0\n",
    "rev_change=[]\n",
    "\n",
    "\n",
    "#read csv and parse data into lists\n",
    "#revenue list will be list of integers\n",
    "with open(file, 'r') as csvfile:\n",
    "    csvread = csv.reader(csvfile)\n",
    "    \n",
    "    next(csvread, None)\n",
    "\n",
    "    for row in csvread:\n",
    "        months.append(row[0])\n",
    "        revenue.append(int(row[1]))\n",
    "        month_change = int(row[1]) - prior_month\n",
    "        prior_month = int(row[1])\n",
    "        rev_change.append(month_change)\n",
    "\n",
    "#find total months\n",
    "total_months = len(months)\n",
    "\n",
    "#create greatest increase, decrease variables and set them equal to the first revenue entry\n",
    "#set total revenue = 0 \n",
    "greatest_inc = revenue[0]\n",
    "greatest_dec = revenue[0]\n",
    "total_revenue = 0\n",
    "\n",
    "#loop through revenue indices and compare # to find greatest inc and dec\n",
    "#also add each revenue to total revenue\n",
    "for r in range(len(revenue)):\n",
    "    if revenue[r] >= greatest_inc:\n",
    "        greatest_inc = revenue[r]\n",
    "        great_inc_month = months[r]\n",
    "    elif revenue[r] <= greatest_dec:\n",
    "        greatest_dec = revenue[r]\n",
    "        great_dec_month = months[r]\n",
    "    total_revenue += revenue[r]\n",
    "\n",
    "#calculate average_change\n",
    "average_change = round(sum(rev_change)/total_months)\n",
    "\n",
    "#sets path for output file\n",
    "output_dest = os.path.join('pybank_output.txt')\n",
    "\n",
    "print(\"Financial Analysis\")\n",
    "print(\"------------------------------\")\n",
    "print(\"Total Months: {}\".format(total_months))\n",
    "print(\"Total: ${:,}\".format(total_revenue))\n",
    "print(\"Average Change: ${:,}\".format(average_change))\n",
    "print(\"Greatest Increase in Profits: {} (${:,})\".format(great_inc_month,greatest_inc))\n",
    "print(\"Greatest Decrease in Profits: {} (${:,})\".format(great_dec_month,greatest_dec))\n",
    "\n",
    "# opens the output destination in write mode and prints the summary\n",
    "with open(output_dest, 'w') as writefile:\n",
    "    writefile.writelines('Financial Analysis\\n')\n",
    "    writefile.writelines('----------------------------' + '\\n')\n",
    "    writefile.writelines('Total Months: ' + str(total_months) + '\\n')\n",
    "    writefile.writelines('Total Revenue: $' + str(total_revenue) + '\\n')\n",
    "    writefile.writelines('Average Revenue Change: $' + str(average_change) + '\\n')\n",
    "    writefile.writelines('Greatest Increase in Revenue: ' + great_inc_month + ' ($' + str(greatest_inc) + ')'+ '\\n')\n",
    "    writefile.writelines('Greatest Decrease in Revenue: ' + great_dec_month + ' ($' + str(greatest_dec) + ')')"
   ]
  },
  {
   "cell_type": "code",
   "execution_count": null,
   "metadata": {},
   "outputs": [],
   "source": []
  }
 ],
 "metadata": {
  "kernelspec": {
   "display_name": "Python 3",
   "language": "python",
   "name": "python3"
  },
  "language_info": {
   "codemirror_mode": {
    "name": "ipython",
    "version": 3
   },
   "file_extension": ".py",
   "mimetype": "text/x-python",
   "name": "python",
   "nbconvert_exporter": "python",
   "pygments_lexer": "ipython3",
   "version": "3.7.1"
  }
 },
 "nbformat": 4,
 "nbformat_minor": 2
}
