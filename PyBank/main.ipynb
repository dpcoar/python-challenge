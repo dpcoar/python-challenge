{
 "cells": [
  {
   "cell_type": "code",
   "execution_count": 87,
   "metadata": {},
   "outputs": [
    {
     "name": "stdout",
     "output_type": "stream",
     "text": [
      "Financial Analysis\n",
      "------------------------------\n",
      "Total Months: 86\n",
      "Total: $38,382,578\n",
      "Average Change: $7,803\n",
      "Greatest Increase in Profits: Feb-2012 ($1,170,593)\n",
      "Greatest Decrease in Profits: Sep-2013 ($-1,196,225)\n"
     ]
    }
   ],
   "source": [
    "import csv\n",
    "import os\n",
    "\n",
    "# choose 1 or 2\n",
    "file_num = 2\n",
    "\n",
    "budget_data = os.path.join('budget_data.csv')\n",
    "\n",
    "months = []\n",
    "revenue = []\n",
    "prior_month= 0\n",
    "rev_change=[]\n",
    "\n",
    "with open(budget_data, 'r') as csvfile:\n",
    "    csvread = csv.reader(csvfile)\n",
    "    \n",
    "    next(csvread, None)\n",
    "\n",
    "    for row in csvread:\n",
    "        months.append(row[0])\n",
    "        revenue.append(int(row[1]))\n",
    "        month_change = int(row[1]) - prior_month\n",
    "        prior_month = int(row[1])\n",
    "        rev_change.append(month_change)\n",
    "        \n",
    "      \n",
    "       \n",
    "total_months = len(months)\n",
    "greatest_inc = max(revenue)\n",
    "greatest_dec = min(revenue)\n",
    "total_revenue = sum(revenue)\n",
    "average_change = round(sum(rev_change)/total_months)\n",
    "\n",
    "print(\"Financial Analysis\")\n",
    "print(\"------------------------------\")\n",
    "print(\"Total Months: {}\".format(total_months))\n",
    "print(\"Total: ${:,}\".format(total_revenue))\n",
    "print(\"Average Change: ${:,}\".format(average_change))\n",
    "print(\"Greatest Increase in Profits: {} (${:,})\".format(great_inc_month,greatest_inc))\n",
    "print(\"Greatest Decrease in Profits: {} (${:,})\".format(great_dec_month,greatest_dec))\n",
    "\n",
    "output_dest = os.path.join('pybank_output.txt')\n",
    "\n",
    "with open(output_dest, 'w') as writefile:\n",
    "    writefile.writelines('Financial Analysis\\n')\n",
    "    writefile.writelines('----------------------------' + '\\n')\n",
    "    writefile.writelines('Total Months: {}'.format(total_months) + '\\n')\n",
    "    writefile.writelines(\"Total: ${:,}\".format(total_revenue) + '\\n')\n",
    "    writefile.writelines('Average Change: ${:,}'.format(average_change) + '\\n')\n",
    "    writefile.writelines('Greatest Increase in Profits: {} (${:,})'.format(great_inc_month,greatest_inc) + '\\n')\n",
    "    writefile.writelines('Greatest Decrease in Profits: {} (${:,})'.format(great_dec_month,greatest_dec) + ')')\n"
   ]
  },
  {
   "cell_type": "code",
   "execution_count": 67,
   "metadata": {},
   "outputs": [
    {
     "name": "stdout",
     "output_type": "stream",
     "text": [
      "Financial Analysis\n",
      "-------------------------------------------------------\n",
      "Total Months: 86\n",
      "\n"
     ]
    }
   ],
   "source": [
    "print(results)"
   ]
  },
  {
   "cell_type": "code",
   "execution_count": 25,
   "metadata": {},
   "outputs": [
    {
     "data": {
      "text/plain": [
       "532869"
      ]
     },
     "execution_count": 25,
     "metadata": {},
     "output_type": "execute_result"
    }
   ],
   "source": [
    "month_change"
   ]
  },
  {
   "cell_type": "code",
   "execution_count": 18,
   "metadata": {},
   "outputs": [
    {
     "data": {
      "text/plain": [
       "[867884,\n",
       " 116771,\n",
       " -662642,\n",
       " -391430,\n",
       " 379920,\n",
       " 212354,\n",
       " 510239,\n",
       " -428211,\n",
       " -821271,\n",
       " 693918,\n",
       " 416278,\n",
       " -974163,\n",
       " 860159,\n",
       " -1115009,\n",
       " 1033048,\n",
       " 95318,\n",
       " -308093,\n",
       " 99052,\n",
       " -521393,\n",
       " 605450,\n",
       " 231727,\n",
       " -65187,\n",
       " -702716,\n",
       " 177975,\n",
       " -1065544,\n",
       " 1926159,\n",
       " -917805,\n",
       " 898730,\n",
       " -334262,\n",
       " -246499,\n",
       " -64055,\n",
       " -1529236,\n",
       " 1497596,\n",
       " 304914,\n",
       " -635801,\n",
       " 398319,\n",
       " -183161,\n",
       " -37864,\n",
       " -253689,\n",
       " 403655,\n",
       " 94168,\n",
       " 306877,\n",
       " -83000,\n",
       " 210462,\n",
       " -2196167,\n",
       " 1465222,\n",
       " -956983,\n",
       " 1838447,\n",
       " -468003,\n",
       " -64602,\n",
       " 206242,\n",
       " -242155,\n",
       " -449079,\n",
       " 315198,\n",
       " 241099,\n",
       " 111540,\n",
       " 365942,\n",
       " -219310,\n",
       " -368665,\n",
       " 409837,\n",
       " 151210,\n",
       " -110244,\n",
       " -341938,\n",
       " -1212159,\n",
       " 683246,\n",
       " -70825,\n",
       " 335594,\n",
       " 417334,\n",
       " -272194,\n",
       " -236462,\n",
       " 657432,\n",
       " -211262,\n",
       " -128237,\n",
       " -1750387,\n",
       " 925441,\n",
       " 932089,\n",
       " -311434,\n",
       " 267252,\n",
       " -1876758,\n",
       " 1733696,\n",
       " 198551,\n",
       " -665765,\n",
       " 693229,\n",
       " -734926,\n",
       " 77242,\n",
       " 532869]"
      ]
     },
     "execution_count": 18,
     "metadata": {},
     "output_type": "execute_result"
    }
   ],
   "source": [
    "rev_change"
   ]
  },
  {
   "cell_type": "code",
   "execution_count": null,
   "metadata": {},
   "outputs": [],
   "source": []
  }
 ],
 "metadata": {
  "kernelspec": {
   "display_name": "Python 3",
   "language": "python",
   "name": "python3"
  },
  "language_info": {
   "codemirror_mode": {
    "name": "ipython",
    "version": 3
   },
   "file_extension": ".py",
   "mimetype": "text/x-python",
   "name": "python",
   "nbconvert_exporter": "python",
   "pygments_lexer": "ipython3",
   "version": "3.7.1"
  }
 },
 "nbformat": 4,
 "nbformat_minor": 2
}
