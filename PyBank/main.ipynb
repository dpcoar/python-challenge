{
 "cells": [
  {
   "cell_type": "code",
   "execution_count": 87,
   "metadata": {},
   "outputs": [
    {
     "name": "stdout",
     "output_type": "stream",
     "text": [
      "Financial Analysis\n",
      "------------------------------\n",
      "Total Months: 86\n",
      "Total: $38,382,578\n",
      "Average Change: $7,803\n",
      "Greatest Increase in Profits: Feb-2012 ($1,170,593)\n",
      "Greatest Decrease in Profits: Sep-2013 ($-1,196,225)\n"
     ]
    }
   ],
   "source": [
    "import csv\n",
    "import os\n",
    "\n",
    "# choose 1 or 2\n",
    "file_num = 2\n",
    "\n",
    "budget_data = os.path.join('budget_data.csv')\n",
    "\n",
    "months = []\n",
    "revenue = []\n",
    "prior_month= 0\n",
    "rev_change=[]\n",
    "\n",
    "with open(budget_data, 'r') as csvfile:\n",
    "    csvread = csv.reader(csvfile)\n",
    "    \n",
    "    next(csvread, None)\n",
    "\n",
    "    for row in csvread:\n",
    "        months.append(row[0])\n",
    "        revenue.append(int(row[1]))\n",
    "        month_change = int(row[1]) - prior_month\n",
    "        prior_month = int(row[1])\n",
    "        rev_change.append(month_change)\n",
    "        \n",
    "      \n",
    "       \n",
    "total_months = len(months)\n",
    "greatest_inc = max(revenue)\n",
    "greatest_dec = min(revenue)\n",
    "total_revenue = sum(revenue)\n",
    "average_change = round(sum(rev_change)/total_months)\n",
    "\n",
    "print(\"Financial Analysis\")\n",
    "print(\"------------------------------\")\n",
    "print(\"Total Months: {}\".format(total_months))\n",
    "print(\"Total: ${:,}\".format(total_revenue))\n",
    "print(\"Average Change: ${:,}\".format(average_change))\n",
    "print(\"Greatest Increase in Profits: {} (${:,})\".format(great_inc_month,greatest_inc))\n",
    "print(\"Greatest Decrease in Profits: {} (${:,})\".format(great_dec_month,greatest_dec))\n",
    "\n",
    "output_dest = os.path.join('pybank_output.txt')\n",
    "\n",
    "with open(output_dest, 'w') as writefile:\n",
    "    writefile.writelines('Financial Analysis\\n')\n",
    "    writefile.writelines('----------------------------' + '\\n')\n",
    "    writefile.writelines('Total Months: {}'.format(total_months) + '\\n')\n",
    "    writefile.writelines(\"Total: ${:,}\".format(total_revenue) + '\\n')\n",
    "    writefile.writelines('Average Change: ${:,}'.format(average_change) + '\\n')\n",
    "    writefile.writelines('Greatest Increase in Profits: {} (${:,})'.format(great_inc_month,greatest_inc) + '\\n')\n",
    "    writefile.writelines('Greatest Decrease in Profits: {} (${:,})'.format(great_dec_month,greatest_dec) + ')')\n"
   ]
  },
  {
   "cell_type": "code",
   "execution_count": null,
   "metadata": {},
   "outputs": [],
   "source": []
  },
  {
   "cell_type": "code",
   "execution_count": null,
   "metadata": {},
   "outputs": [],
   "source": []
  },
  {
   "cell_type": "code",
   "execution_count": null,
   "metadata": {},
   "outputs": [],
   "source": []
  },
  {
   "cell_type": "code",
   "execution_count": null,
   "metadata": {},
   "outputs": [],
   "source": []
  }
 ],
 "metadata": {
  "kernelspec": {
   "display_name": "Python 3",
   "language": "python",
   "name": "python3"
  },
  "language_info": {
   "codemirror_mode": {
    "name": "ipython",
    "version": 3
   },
   "file_extension": ".py",
   "mimetype": "text/x-python",
   "name": "python",
   "nbconvert_exporter": "python",
   "pygments_lexer": "ipython3",
   "version": "3.7.1"
  }
 },
 "nbformat": 4,
 "nbformat_minor": 2
}
