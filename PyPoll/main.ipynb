{
 "cells": [
  {
   "cell_type": "code",
   "execution_count": 1,
   "metadata": {},
   "outputs": [
    {
     "name": "stdout",
     "output_type": "stream",
     "text": [
      "Election Results \n",
      "------------------------- \n",
      "Total Votes: 3521001\n",
      "-------------------------\n",
      "Khan: 63.0%  (2218231)\n",
      "Correy: 20.0%  (704200)\n",
      "Li: 14.0%  (492940)\n",
      "O'Tooley: 3.0%  (105630)\n",
      "------------------------- \n",
      "Winner: Khan\n",
      "-------------------------\n"
     ]
    }
   ],
   "source": [
    "import csv\n",
    "import os\n",
    "\n",
    "election_data = os.path.join('election_data.csv')\n",
    "\n",
    "poll = {}\n",
    "\n",
    "total_votes = 0\n",
    "\n",
    "with open(election_data, 'r') as csvfile:\n",
    "    csvread = csv.reader(csvfile)\n",
    "    next(csvread, None)\n",
    "\n",
    "    for row in csvread:\n",
    "        total_votes += 1\n",
    "        if row[2] in poll.keys():\n",
    "            poll[row[2]] = poll[row[2]] + 1\n",
    "        else:\n",
    "            poll[row[2]] = 1\n",
    " \n",
    "candidates = []\n",
    "num_votes = []\n",
    "\n",
    "for key, value in poll.items():\n",
    "    candidates.append(key)\n",
    "    num_votes.append(value)\n",
    "\n",
    "vote_percent = []\n",
    "for n in num_votes:\n",
    "    vote_percent.append(round(n/total_votes*100, 1))\n",
    "\n",
    "clean_data = list(zip(candidates, num_votes, vote_percent))\n",
    "\n",
    "winner_list = []\n",
    "\n",
    "for name in clean_data:\n",
    "    if max(num_votes) == name[1]:\n",
    "        winner_list.append(name[0])\n",
    "\n",
    "winner = winner_list[0]\n",
    "\n",
    "if len(winner_list) > 1:\n",
    "    for w in range(1, len(winner_list)):\n",
    "        winner = winner + \", \" + winner_list[w]\n",
    "\n",
    "output_file = os.path.join('election_results.txt')\n",
    "\n",
    "with open(output_file, 'w') as txtfile:\n",
    "    txtfile.writelines('Election Results \\n------------------------- \\nTotal Votes: ' + str(total_votes) + \n",
    "      '\\n-------------------------\\n')\n",
    "    for entry in clean_data:\n",
    "        txtfile.writelines(entry[0] + \": \" + str(entry[2]) +'%  (' + str(entry[1]) + ')\\n')\n",
    "    txtfile.writelines('------------------------- \\nWinner: ' + winner + '\\n-------------------------')\n",
    "\n",
    "with open(output_file, 'r') as readfile:\n",
    "    print(readfile.read())\n"
   ]
  },
  {
   "cell_type": "code",
   "execution_count": null,
   "metadata": {},
   "outputs": [],
   "source": []
  },
  {
   "cell_type": "code",
   "execution_count": null,
   "metadata": {},
   "outputs": [],
   "source": []
  }
 ],
 "metadata": {
  "kernelspec": {
   "display_name": "Python 3",
   "language": "python",
   "name": "python3"
  },
  "language_info": {
   "codemirror_mode": {
    "name": "ipython",
    "version": 3
   },
   "file_extension": ".py",
   "mimetype": "text/x-python",
   "name": "python",
   "nbconvert_exporter": "python",
   "pygments_lexer": "ipython3",
   "version": "3.7.1"
  }
 },
 "nbformat": 4,
 "nbformat_minor": 2
}
